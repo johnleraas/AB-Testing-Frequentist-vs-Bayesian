{
 "cells": [
  {
   "cell_type": "markdown",
   "id": "18814d67-2608-45ca-a296-1203f1bad2d9",
   "metadata": {},
   "source": [
    "__Author:__ John Leraas\n",
    "\n",
    "__Date:__ 2/8/2022\n",
    "\n",
    "__Purpose:__ This notebook was created to explain and commpare different A/B testing methods, highlight nuances, and provide resources for further reference."
   ]
  },
  {
   "cell_type": "markdown",
   "id": "d5fa41bc-a358-40ca-ba55-1cbe977b217f",
   "metadata": {},
   "source": [
    "# A/B Testing\n",
    "\n",
    "A/B testing is commonly applied to website optimization, where many observations can be obtained over a short period of time at a low cost to the organization. Specific web-oriented A/B tests cover areas such as e-commerce, media, and really any aspect of any website (web optimization more generally). However, it is more generally applied to any service with measured user behavior, in making many broader business decisions, and in clinical trials.\n",
    "\n",
    "There are two frequently used approaches to A/B testing: the Frequentist Approach and the Bayesian Approach. In this example we will look at a 'fixed size' experiments and compare the analyses, though the Frequentist Approach can be modified for Sequential A/B Testing.\n",
    "\n",
    "### Frequentist Approach\n",
    "The Frequentist Approach to A/B testing utilizes simple hypothesis testing to compare the observed data distributions of A and B. Specifically, and perhaps counterintuitively, this involves selecting an outcome you wish to test (B is better or worse than A), selecting a null hypothesis that is essentially the opposite (B is the same as A), and tryinig to disprove the null hypothesis (more specifically, that the probability of observing the data is extremely small if the null hypothesis is true). The general procedure for a Frequentist A/B test is as follows (with additional detail presented subsequently):\n",
    "* __State the Null Hypothesis:__ e.g. There is no difference between A and B\n",
    "* __Select Acceptable Uncertainty in Results:__ This corresponds to both an acceptable false positive rate and false negative rate. The false positive rate corresponds to a \"Significance Level\". The most common \"rule of thumb\" value is a 95% significance level (corresponding to a 5% false positive rate), but this should be selected based upon the problem (and cost associated with a false positive). The false negative rate corresponds to the \"Statistical Power\" of the experiment. A typical rule of thumb value is 80%, corresponding to a 20% false negative rate.\n",
    "* __Select Size of Experiment:__ This must be performed __PRIOR__ to the start of the experiment. p-values fluctuate over the course of the experimental trials, and so failing to adhere to this predefined experimental parameter can result in an undo number of false positives (with the tendancy to stop experiments once the p-value reaches the signficance level). Note that Sequential A/B Testing can be applied as an alternative to this fixed size approach. Generally the sequential approach outperforms when the difference in rates between A and B are large, but can result in longer experiments when the difference is small.\n",
    "* __Collect all Observations:__ Run the experiment\n",
    "* __Check for Significance:__ Compare the two distributions using a paired t-test\n",
    "* __Accept or Reject Null Hypothesis__\n",
    "\n",
    "\n",
    "### Bayesian Approach\n",
    "* __Select a Likelihood Function:__ For binary outcomes (e.g. click or don't click), and specifically Bernoulli Random Trials, a Binomial Distribution is appropriate.\n",
    "* __Select a Prior Function:__ The specific A/B testing problem makes the Beta Distribution a particularly good choice.\n",
    "* __Apply Belief in Model Parameters Through Prior:__ If there is a strong (or weak) belief derived from pre-existing knowledge or insight, this can be incorporated in the prior. Additionally, a uniform prior can be used to convey no pre-existing insight or expectation regarding the prior.\n",
    "* __Collect All Observations:__ Run the experiment\n",
    "* __Calculate Posterior Probobalities:__ Calculate the probability distribution of the parameter, representing the conversion rate in this case, of both A and B.\n",
    "* __Compare Results:__ Calculate the probability that B is better than A. Interestingly, the conversion rate of A and B are represented by distributions so this is solved via an integration of the probability distributions."
   ]
  },
  {
   "cell_type": "markdown",
   "id": "da51b348-caad-40d6-a4a5-3700970cebc0",
   "metadata": {},
   "source": [
    "## Experimental Design\n",
    "\n",
    "Before any code or modeling is implemented, there are some important considerations regarding experimental design and actual implementation. While not an exhaustive list (as there are books written on the subject), some key considerations are:\n",
    "\n",
    "* __Measurement of Metric:__ Choice of how you measure the metric of interest will affect the experimental requirements and outcomes. For example, if we are interested in purchases of a user we could measure (i) whether a purchase occurs (e.g. 0/1), (ii) how many items are purchased (e.g. 0, 1, 2, ...), or (iii) revenue (e.g. \\\\$0, \\\\$23.37, \\\\$102.67). The binary measurement results in the lowest variance and requires the smallest number of observations to be obtained.\n",
    "* __Outliers:__ Outliers can effect the variance and thus affect the statistical signficance of the experiment. Caps can be placed on the measurement to reduce the effect of outliers (e.g. revenue up to max of \\\\$250).\n",
    "* __Time and Timeframe:__ This will depend heavily upon the amount of data received and the effect of time on the measured metrics. For example, if tens of thousands of page visits are expected over a few hours, this may be a great choice for the duration of the experiment. If the website is expected to receive statistically significant numbers of views over a multi-day period it may be advantageous to run the experiment over a two-week interval in order to be able to normalize (or at least compare) the potential effects that day of week may introduce. In the context of some problems models corresponding to different days of week or time of day may be desireable. Depending upon the experiment seasonality may also require consideration.\n",
    "* __Randomization Unit__: For web-oriented experiments this is often the user. It should be noted that adding number of users over the course of the experiment will not be linear with time due to traffic generated from return users. Additionally, if the randomization unit (e.g. user) is different from the metric being observed (e.g. page-view) this can create issues with estimating variance.\n",
    "* __Novelty/Primacy Effects:__ The introduction of any new feature may result in a short term increase (novelty) or decrease (primacy) in traffic. This can be monitored by tracking conversion metrics over a longer period of time (dependent on context of the problem).\n",
    "* __Bots:__ Bots filtering can pose a serious problem. It has been noted that over 50% of Bing's US traffic and over 90% of Bing's China and Russia traffic comes from bots (\"Trustworth Online Controlled Experiments A Practical Guide to A/B Testing\" p. 48).\n",
    "* __A/A Testing:__ This should be implemented before running experiments and on a regular basis in order to ensure that the experiment is running as expected.\n"
   ]
  },
  {
   "cell_type": "markdown",
   "id": "944a1e0c-03d1-409d-b8a6-ed2548474bc7",
   "metadata": {},
   "source": [
    "# Import Libraries"
   ]
  },
  {
   "cell_type": "code",
   "execution_count": 1,
   "id": "e50b672d-dd13-4242-b115-ba20eb3c1c47",
   "metadata": {},
   "outputs": [],
   "source": [
    "import pandas as pd\n",
    "import numpy as np\n",
    "import math\n",
    "from scipy import stats\n",
    "from scipy.special import betaln\n",
    "import matplotlib.pyplot as plt"
   ]
  },
  {
   "cell_type": "markdown",
   "id": "d039de06-1cb5-4524-9180-d2e5381633f3",
   "metadata": {},
   "source": [
    "# Data Setup\n",
    "\n",
    "Prior to exploring both statistical approaches in greater detail, let's define a common set of data from which we can illustrate both approaches and compare them. For the sake of this problem we wil look at binomial outcomes (e.g. someone clicks or they don't, someone gets better in a clinical trial or they don't, ...). In more general non-binary problems, it can often advantageous to define the problem in a binomial fashion in order to reduce variance. For example, creating a binary observation for whether someone purchased an item from a website (1 if revenue > 0) may be advantageous relative to using revenue. \n",
    "\n",
    "An arbitrary dataset is generated below:"
   ]
  },
  {
   "cell_type": "code",
   "execution_count": 2,
   "id": "e939013c-a45f-4f61-8ece-e64594da7df3",
   "metadata": {},
   "outputs": [],
   "source": [
    "mean_A = .25  #True Mean of A\n",
    "mean_B = .3  #True Mean of B\n",
    "n = 100000  #Arbitrarily large number of observations\n",
    "sample = int(n/2) #Number of observations from A and B separately\n",
    "\n",
    "# Create Datasets - Binomial Distribution\n",
    "X1=np.random.binomial(n=1, p=mean_A, size=sample)\n",
    "X2=np.random.binomial(n=1, p=mean_B, size=sample)"
   ]
  },
  {
   "cell_type": "code",
   "execution_count": 3,
   "id": "94bf308e-624e-462d-842d-214d7ca559d1",
   "metadata": {},
   "outputs": [
    {
     "data": {
      "text/html": [
       "<div>\n",
       "<style scoped>\n",
       "    .dataframe tbody tr th:only-of-type {\n",
       "        vertical-align: middle;\n",
       "    }\n",
       "\n",
       "    .dataframe tbody tr th {\n",
       "        vertical-align: top;\n",
       "    }\n",
       "\n",
       "    .dataframe thead th {\n",
       "        text-align: right;\n",
       "    }\n",
       "</style>\n",
       "<table border=\"1\" class=\"dataframe\">\n",
       "  <thead>\n",
       "    <tr style=\"text-align: right;\">\n",
       "      <th></th>\n",
       "      <th>X1</th>\n",
       "      <th>X2</th>\n",
       "    </tr>\n",
       "  </thead>\n",
       "  <tbody>\n",
       "    <tr>\n",
       "      <th>count</th>\n",
       "      <td>50000.000</td>\n",
       "      <td>50000.000</td>\n",
       "    </tr>\n",
       "    <tr>\n",
       "      <th>mean</th>\n",
       "      <td>0.250</td>\n",
       "      <td>0.298</td>\n",
       "    </tr>\n",
       "    <tr>\n",
       "      <th>std</th>\n",
       "      <td>0.433</td>\n",
       "      <td>0.458</td>\n",
       "    </tr>\n",
       "    <tr>\n",
       "      <th>min</th>\n",
       "      <td>0.000</td>\n",
       "      <td>0.000</td>\n",
       "    </tr>\n",
       "    <tr>\n",
       "      <th>25%</th>\n",
       "      <td>0.000</td>\n",
       "      <td>0.000</td>\n",
       "    </tr>\n",
       "    <tr>\n",
       "      <th>50%</th>\n",
       "      <td>0.000</td>\n",
       "      <td>0.000</td>\n",
       "    </tr>\n",
       "    <tr>\n",
       "      <th>75%</th>\n",
       "      <td>0.000</td>\n",
       "      <td>1.000</td>\n",
       "    </tr>\n",
       "    <tr>\n",
       "      <th>max</th>\n",
       "      <td>1.000</td>\n",
       "      <td>1.000</td>\n",
       "    </tr>\n",
       "  </tbody>\n",
       "</table>\n",
       "</div>"
      ],
      "text/plain": [
       "              X1         X2\n",
       "count  50000.000  50000.000\n",
       "mean       0.250      0.298\n",
       "std        0.433      0.458\n",
       "min        0.000      0.000\n",
       "25%        0.000      0.000\n",
       "50%        0.000      0.000\n",
       "75%        0.000      1.000\n",
       "max        1.000      1.000"
      ]
     },
     "execution_count": 3,
     "metadata": {},
     "output_type": "execute_result"
    }
   ],
   "source": [
    "# Display Dataset Descriptive Statistics\n",
    "pd.DataFrame({\"X1\": X1,\n",
    "            \"X2\": X2}).describe().round(3)"
   ]
  },
  {
   "cell_type": "markdown",
   "id": "74698ed0-3ae3-4570-af2d-39dfa06f0d21",
   "metadata": {},
   "source": [
    "### Display Data"
   ]
  },
  {
   "cell_type": "code",
   "execution_count": 4,
   "id": "4f0d62c7-bf32-4de2-bee8-9945fafe0b25",
   "metadata": {},
   "outputs": [
    {
     "data": {
      "image/png": "[encoded data removed]",
      "text/plain": [
       "<Figure size 432x288 with 2 Axes>"
      ]
     },
     "metadata": {
      "needs_background": "light"
     },
     "output_type": "display_data"
    }
   ],
   "source": [
    "fig, (ax1, ax2) = plt.subplots(1,2)\n",
    "\n",
    "ax1.hist(X1, bins=50, color='blue')\n",
    "ax1.set_title(\"X1 - A\")\n",
    "\n",
    "ax2.hist(X2, bins=50, color='orange')\n",
    "ax2.set_title(\"X2 - B\")\n",
    "\n",
    "fig.tight_layout(pad=2)\n",
    "\n",
    "plt.show()"
   ]
  },
  {
   "cell_type": "markdown",
   "id": "5b749889-1323-4ee3-a09c-26949f7e9fb6",
   "metadata": {},
   "source": [
    "# Frequentist Approach\n",
    "\n",
    "## Null Hypothesis\n",
    "\n",
    "__Null Hypothesis:__ The average conversion rate of A is equal to the average conversion rate of B.\n",
    "$$\n",
    "H_0: \\mu_A = \\mu_B\n",
    "$$\n",
    "\n",
    "__Alternative Hypothesis:__ The average conversion rate of A is not equal to the average conversion rate of B.\n",
    "$$\n",
    "H_A: \\mu_A \\neq \\mu_B\n",
    "$$\n",
    "\n",
    "or (in the case of the proceding experiment), we can select the average conversion rate of B to be greater than the average conversion rate of A\n",
    "$$\n",
    "H_A: \\mu_A <= \\mu_B\n",
    "$$\n",
    "\n",
    "## Select Acceptable Uncertainty in Results:\n",
    "__Significance Level:__ For the purpose of this example, we will choose $\\alpha = 0.05$ (corresponding to a 5% false positive rate), as this is a common rule of thumb statistical. To be emphasized, this means that we expect approximately 1 in 20 experiments to result in a false positive. Additionally, it is common to user much lower levels ($\\alpha = 0.20$) in web optimization, as the cost of a false positive is generally low. These are often referred to as \"practical significance\" levels. In general this should be related to the problem at hand and the relative costs and rewards. For example, if a positive result would heavily influence a major organizational investment (time, money, people, etc.), perhaps a 99% or 99.9% significance rate would be desireable (and the gravity of the decision would justify the increased experiment size). If there is a large benefit with small potential cost to implementing B, perhaps a significance level of 90%, 80%, or 60% is more appropriate.\n",
    "\n",
    "__Statistical Power:__ For the purpose of this example, we will choose $1- \\beta = 0.80$ (corresponding to a 20% false negative rate). Again, this is a common rule of thumb, but should be tailored to the actual context of the experiment.\n",
    "\n",
    "## Select Size of Experiment\n",
    "The frequentist approach uses the rule of thumb for selecting sample size as:\n",
    "\n",
    "$$\n",
    "n = 16 \\frac {\\sigma ^2}{\\gamma ^2}\n",
    "$$\n",
    "\n",
    "where $\\gamma$ is the minimum effect the experiment seeks to detect and $\\sigma^2$ is the variance. This assumes a significance level of $\\alpha = 0.05$ and statistical power of $1 - \\beta = 0.80$ .\n",
    "\n",
    "\n",
    "Recall that for a binomial experiment:\n",
    "$$\n",
    "E[X] = p\n",
    "$$\n",
    "$$\n",
    "\\sigma ^2 = pq = p(1-p)\n",
    "$$\n",
    "\n",
    "\n",
    "In the context of the experiment:\n",
    "- Let's assume that we know the mean (and therefore variance) of A (from observing the pre-existing state for some period of time)\n",
    "- Let's assume that we are seeking to observe at least a 5% relative difference (or 1.25% absolute difference)\n",
    "\n",
    "__Calculate n__"
   ]
  },
  {
   "cell_type": "code",
   "execution_count": 5,
   "id": "10d27627-ec95-42cb-a547-e395319be062",
   "metadata": {},
   "outputs": [
    {
     "data": {
      "text/plain": [
       "19200"
      ]
     },
     "execution_count": 5,
     "metadata": {},
     "output_type": "execute_result"
    }
   ],
   "source": [
    "# Calculate n\n",
    "var_X1 = mean_A * (1 - mean_A) # variance = p*q\n",
    "n_req = 16 * var_X1 / (.05 * mean_A)**2\n",
    "n_req = int(math.ceil(n_req)) # Round up to integer value\n",
    "n_req"
   ]
  },
  {
   "cell_type": "markdown",
   "id": "32a6b96e-6f9d-43c3-84b9-71125bf654f6",
   "metadata": {},
   "source": [
    "Conversely, we can look at the detectable difference for a given sample size (20,000 for example):\n",
    "\n",
    "$$\n",
    "\\gamma = (t_{\\alpha/2} +t_{\\beta}) * \\sigma * \\sqrt{2 / n}\n",
    "$$"
   ]
  },
  {
   "cell_type": "code",
   "execution_count": 6,
   "id": "2027e6e4-ce73-476d-b7a7-75073b4e3e36",
   "metadata": {},
   "outputs": [
    {
     "name": "stdout",
     "output_type": "stream",
     "text": [
      "Detectable Difference (absolute value): 0.012143073247928718\n",
      "Detectable Difference (relative value): 0.04857229299171487\n"
     ]
    }
   ],
   "source": [
    "n_samp = 20000\n",
    "t_alpha = stats.t.ppf(1-.05/2, 999) # 95% confidence interval\n",
    "t_beta = stats.t.ppf(1-.8,999) #80% predictive power\n",
    "gamma = (t_alpha - t_beta) * (mean_A * (1 - mean_A))**(0.5) * (2/n_samp)**0.5\n",
    "print(f\"Detectable Difference (absolute value): {gamma}\")\n",
    "print(f\"Detectable Difference (relative value): {gamma/mean_A}\")"
   ]
  },
  {
   "cell_type": "markdown",
   "id": "fc1c2933-2e78-4b2e-b116-ec7a5805a7e9",
   "metadata": {},
   "source": [
    "## Collect all Observations\n",
    "\n",
    "We will utilize the calculation from the prior step in modeling the data collection."
   ]
  },
  {
   "cell_type": "code",
   "execution_count": 7,
   "id": "e5417763-6307-488e-810f-2abb3b2d4a25",
   "metadata": {},
   "outputs": [
    {
     "name": "stdout",
     "output_type": "stream",
     "text": [
      "Number of A samples collected: 9600\n",
      "Number of B samples collected: 9600\n"
     ]
    }
   ],
   "source": [
    "# Number observations from both A and B\n",
    "n_obs = int(n_req/2) #integer value\n",
    "\n",
    "# Half of observations from A\n",
    "data_A = X1[range(n_obs)]\n",
    "print(\"Number of A samples collected: %1d\" % data_A.shape)\n",
    "\n",
    "# Half of observations from B\n",
    "data_B = X2[range(n_obs)]\n",
    "print(\"Number of B samples collected: %1d\" % data_B.shape)"
   ]
  },
  {
   "cell_type": "markdown",
   "id": "aa6c5df7-aeb4-4ab0-85e2-8ff8fab35a93",
   "metadata": {},
   "source": [
    "__Summary / Highlights__\n",
    "\n",
    "The data collecton resulted in the following highlights:"
   ]
  },
  {
   "cell_type": "code",
   "execution_count": 29,
   "id": "af5d4d60-9d19-473d-9fa7-bde9e19eb47c",
   "metadata": {},
   "outputs": [
    {
     "name": "stdout",
     "output_type": "stream",
     "text": [
      "Data A:\n",
      "Samples Collected: 9600\n",
      "Number of Conversions: 2319\n",
      "Conversion Rate: 0.241563\n",
      "Variance: 0.183210\n",
      "\n",
      "Data B:\n",
      "Samples Collected: 9600\n",
      "Number of Conversions: 2933\n",
      "Conversion Rate: 0.305521\n",
      "Variance: 0.212178\n"
     ]
    }
   ],
   "source": [
    "print(\"Data A:\")\n",
    "print(\"Samples Collected: %1d\" %data_A.shape)\n",
    "print(\"Number of Conversions: %1d\" % data_A.sum())\n",
    "print(\"Conversion Rate: %2f\" %data_A.mean())\n",
    "print(\"Variance: %2f\" %data_A.var())\n",
    "\n",
    "print(\"\\nData B:\")\n",
    "print(\"Samples Collected: %1d\" %data_B.shape)\n",
    "print(\"Number of Conversions: %1d\" % data_B.sum())\n",
    "print(\"Conversion Rate: %2f\" %data_B.mean())\n",
    "print(\"Variance: %2f\" %data_B.var())"
   ]
  },
  {
   "cell_type": "markdown",
   "id": "ceae1868-587b-48db-a192-4b2e91526338",
   "metadata": {},
   "source": [
    "## Check for Significance\n",
    "\n",
    "The basic statistical test used in this case is a simple __Paired t-test__ (note: there are many flow charts available for choosing the appropriate test), which compares the means of the two distributions. Note that for a null hypothesis of $H_0: \\mu_A < \\mu_B$ we use a one tailed test (critical value corresponds to $\\alpha / 2$) and for $H_0: \\mu_A \\neq \\mu_B$ we use a one tailed test (critical value corresponds to $\\alpha$). The critical value and corresponding p-value are calculated below:"
   ]
  },
  {
   "cell_type": "code",
   "execution_count": 30,
   "id": "9f3e2aba-424e-4426-87af-4c39d483c308",
   "metadata": {},
   "outputs": [
    {
     "name": "stdout",
     "output_type": "stream",
     "text": [
      "p-Value: 3.403968102443211e-23\n",
      "Test Statistic: -9.945844953709276\n"
     ]
    }
   ],
   "source": [
    "p_val = stats.ttest_rel(data_A, data_B).pvalue\n",
    "test_stat = stats.ttest_rel(data_A, data_B).statistic\n",
    "\n",
    "print(f\"p-Value: {p_val}\")\n",
    "print(f\"Test Statistic: {test_stat}\")"
   ]
  },
  {
   "cell_type": "markdown",
   "id": "f2f0678d-5ac8-448d-a3d9-94f36fd39cdf",
   "metadata": {},
   "source": [
    "## Accept or Reject Null Hypothesis\n",
    "\n",
    "The null hypothesis is that the mean of each distribution is equal to zero. The p-value indicates the probability that a sample could have produced a difference in the two means resulting in test statistic value or greater, assuming that the null hypothesis is true. More simply put, it indicates the probability of observing data as extreme or more so than that actually observed <u>assuming the null hypothesis to be true<u>.\n",
    "\n",
    "If the p-value is less than the previously selected signficance level for the experiment, we reject the null hypothesis (given the improbable nature of our observation) and accept the alternative hypothesis.\n",
    "\n",
    "If the p-value is not less than the significance level, we simply fail to reject the null hypothesis. Specifically, this does not indicate that it is true, but that we could not disprove it with our experiment (which may be due to a limited number of observations and/or a small difference between the conversion rate of A and B)."
   ]
  },
  {
   "cell_type": "code",
   "execution_count": 31,
   "id": "dad15d09-3532-4e83-97d5-00215f3fdf5f",
   "metadata": {},
   "outputs": [
    {
     "name": "stdout",
     "output_type": "stream",
     "text": [
      "Statistically Significant Difference - Can Reject Null Hypothesis\n"
     ]
    }
   ],
   "source": [
    "crit_val = 0.05\n",
    "p_val = stats.ttest_rel(data_A, data_B).pvalue\n",
    "\n",
    "if p_val < crit_val:\n",
    "    print(\"Statistically Significant Difference - Can Reject Null Hypothesis\")\n",
    "else:\n",
    "    print(\"Cannot Reject Null Hypothesis\")"
   ]
  },
  {
   "cell_type": "markdown",
   "id": "977851fe-d4b0-43b8-9f97-cfac42ace826",
   "metadata": {},
   "source": [
    "Again, after accepting or failing to reject the null hypothesis we should remember our experimintal constraints. Specifically we expect a 5% false positive rate given our selection of $\\alpha = 0.05$. Similarly, we expect a false negative rate (failing to reject the null hypothesis when it is false) approximately 20% of the time. "
   ]
  },
  {
   "cell_type": "markdown",
   "id": "b80f9cd7-4516-4d35-bfee-2b74fcb96937",
   "metadata": {},
   "source": [
    "## Additional Observations\n",
    "\n",
    "After rejecting the null hypothesis, we can make a few additional observations about the data and the experiment itself. These observations become more interesting when compared to the Bayesian approach to A/B testing.\n",
    "\n",
    "- __Lift:__ We can calculate the lift of B over A, or the expected improvement in results.\n",
    "- __Sample Size__: We note that decreasing the sample size significantly results in an increase in false positive and false negative outcomes. This becomes particularly more interesting when compared to the Bayesian approach. "
   ]
  },
  {
   "cell_type": "markdown",
   "id": "71d0ea00-5531-4539-ba4e-d66cd863f20f",
   "metadata": {},
   "source": [
    "### Lift\n",
    "\n",
    "Lift is simply calculated as:\n",
    "\n",
    "$$\n",
    "Lift = \\frac{CR_A - CR_B}{CR_B}\n",
    "$$"
   ]
  },
  {
   "cell_type": "code",
   "execution_count": 32,
   "id": "1222bff5-9076-483d-a0f0-894cc875c54e",
   "metadata": {},
   "outputs": [
    {
     "name": "stdout",
     "output_type": "stream",
     "text": [
      "Conversion Rate (A): 0.242\n",
      "Conversion Rate (B): 0.306\n",
      "Lift of B over A: 0.265\n"
     ]
    }
   ],
   "source": [
    "# Lift = (CR_B - CR_A ) / CR_A\n",
    "cr_A = data_A.sum()/data_A.shape[0]\n",
    "cr_B = data_B.sum()/data_B.shape[0]\n",
    "lift_freq = (cr_B - cr_A) / cr_A\n",
    "\n",
    "print(\"Conversion Rate (A): {:.3f}\".format(cr_A))\n",
    "print(\"Conversion Rate (B): {:.3f}\".format(cr_B))\n",
    "print(\"Lift of B over A: {:.3f}\".format(lift_freq))"
   ]
  },
  {
   "cell_type": "markdown",
   "id": "52b62c52-4319-4b81-be66-f3043f057104",
   "metadata": {},
   "source": [
    "### Sample Size\n",
    "This will be explored in greater detail subsequently, however recall that in order to obtain a 5% false positive rate and 20% false negative rate we required:"
   ]
  },
  {
   "cell_type": "code",
   "execution_count": 33,
   "id": "658ac7f4-c6d7-432c-80d0-8d31ed62d35d",
   "metadata": {},
   "outputs": [
    {
     "name": "stdout",
     "output_type": "stream",
     "text": [
      "Required Observations: 19200\n"
     ]
    }
   ],
   "source": [
    "print(f\"Required Observations: {n_req}\")"
   ]
  },
  {
   "cell_type": "markdown",
   "id": "f7ffb016-fb57-401e-90da-be60975b4572",
   "metadata": {},
   "source": [
    "## Additional (and Emphasized) Points of Note\n",
    "\n",
    "There are a few other points worth noting:\n",
    "* Again, do not report results until experiment is concluded (alternatively perform Bayesian or Sequential experimental design). Those interested in greater detail can look into \"p-value hacking\".\n",
    "* It is extremely common to misinterpret p-values. A p-value indicates the probability of observing data as extreme or more so than that observed, ___assuming the null hypothesis to be true___.\n",
    "    * p-values between experiments cannot be compared to make any interpretable inference\n",
    "    * A p-value of X ___does not mean___ there is an X% chance that the null hypothesis is true; it is calculated assuming the null is true\n",
    "    * A p-value of X ___does not mean___ that if you reject the null there is an X% chance of a false positive (you can test for things in which 100% of positives will be false positives)\n",
    "    * Not reaching a statistically significant conclusion ___does not mean___ that the null hypothesis is true, for example you simply may not have enough data\n",
    "\n"
   ]
  },
  {
   "cell_type": "markdown",
   "id": "5d24c7e6-1f81-43a9-bee5-8bb27c5a73ff",
   "metadata": {},
   "source": [
    "# Bayesian Approach"
   ]
  },
  {
   "cell_type": "markdown",
   "id": "cf783feb-8081-4f4f-a8c6-2f3b54a0f5a7",
   "metadata": {
    "tags": []
   },
   "source": [
    "Bayes' Theorem (applied to model parameters and the corresponding data) states:\n",
    "\n",
    "$$\n",
    "P(\\theta|X) = \\frac{P(X|\\theta) P(\\theta)} {P(X)}\n",
    "$$\n",
    "\n",
    "where\n",
    "\n",
    "> $\\theta = $ the parameters for the underlying distribution\n",
    "\n",
    "> $X = $ the observed outcome (data)\n",
    "\n",
    "We generally refer to the components as:\n",
    "\n",
    "> (\\theta|X)$: the __Posterior Distribution__\n",
    "\n",
    "> (X|\\theta)$: the __Likelihood__\n",
    "\n",
    "> (\\theta)$: the __Prior Probability Distribution__\n",
    "\n",
    "> (X)$: the __Evidence__, a normalizing constant (probabilities should sum to 1)\n",
    "\n",
    "## Setup\n",
    "We are most interested in finding the Posterior Distribution of our parameter(s), however this requires some setup.\n",
    "\n",
    "A classic example of applying Bayes' theorem involves finding a coin on the ground and trying to determine if it is a fair coin (probability of Heads = 50%). In this example, flipping the coin is a Bernoulli random trial and performing a series of flips is modeled with a Binomial distribution. This Binomial distribution is used as the likelihood in this case. This is completely analogous to a conversion, which can be thought of as flipping a \"Head\"). \n",
    "\n",
    "In this example, the prior represents an assumed probability of finding a fair/unfair coin. Valid approaches include both: (a) assuming no knowledge and adopting an uninformative prior, or (b) making a more informed assumption based on prior knowledge of the problem. As it relates to an A/B test, we will assume an uninformative prior though some domain knowledge may also be implemented. For example, if we generally expect a conversion rate of 10%, we may include this information our prior. \n",
    "\n",
    "In summary, we will use:\n",
    "* __Likelihood:__ Binomial Distribution\n",
    "* __Prior:__ Beta Distribution"
   ]
  },
  {
   "cell_type": "markdown",
   "id": "8a28b7f7-ea17-49eb-9bae-45fbfa02ca1c",
   "metadata": {},
   "source": [
    "The __Beta Distribution__ is frequently used as a prior in A/B testing due to its utility in finding an tractable solution and its intuitive application to the problem. The Beta distribution is represented as:\n",
    "\n",
    "$$\n",
    "Beta(S+1, F+1)\n",
    "$$\n",
    "or\n",
    "$$\n",
    "Beta(\\alpha, \\beta)\n",
    "$$\n",
    "\n",
    "where\n",
    "\n",
    "> $S =$ the number of successes and $F =$ the number of failures. \n",
    "\n",
    "Specifically, the Beta distribution represents the probability density function after _S_ successes and _F_ failures.\n",
    "\n",
    "As it relates to defining a prior, certainty can be applied by defining with a larger number of observations (successes/failures). This is illustrated below (with an arbitrary 50% conversion rate):\n",
    "- Uninformative Prior: No observations ($\\alpha = 1, \\beta = 1$)\n",
    "- Weak Prior: 4 observations, chosen as an arbitrary \"small\" number ($\\alpha = 3, \\beta = 3$)\n",
    "- Strong Prior: 200 obervations, chosen arbitrarily ($\\alpha = 101, \\beta = 101$)"
   ]
  },
  {
   "cell_type": "code",
   "execution_count": 34,
   "id": "6b120188-4237-44df-911e-674086cf39a4",
   "metadata": {},
   "outputs": [
    {
     "data": {
      "image/png": "[encoded data removed]",
      "text/plain": [
       "<Figure size 576x432 with 1 Axes>"
      ]
     },
     "metadata": {
      "needs_background": "light"
     },
     "output_type": "display_data"
    }
   ],
   "source": [
    "# Define line space\n",
    "x = np.linspace(0, 1, num=100)\n",
    "\n",
    "\n",
    "# Define Beta Distributions\n",
    "alpha, beta = 1,1 # Uninformative Prior\n",
    "beta_1 = stats.beta.pdf(x, a=alpha, b=beta)/sum(stats.beta.pdf(x, a=alpha, b=beta))\n",
    "\n",
    "alpha, beta = 3,3 # Weak Prior\n",
    "beta_2 = stats.beta.pdf(x, a=alpha, b=beta)/sum(stats.beta.pdf(x, a=alpha, b=beta))\n",
    "\n",
    "alpha, beta = 101,101 # Strong Prior\n",
    "beta_3 = stats.beta.pdf(x, a=alpha, b=beta)/sum(stats.beta.pdf(x, a=alpha, b=beta)) \n",
    "\n",
    "\n",
    "# Plot\n",
    "plt.figure(figsize = (8, 6))\n",
    "plt.plot(x, beta_1)\n",
    "plt.plot(x, beta_2)\n",
    "plt.plot(x, beta_3)\n",
    "plt.xlabel('Parameter Value (Conversion Rate)')\n",
    "plt.ylabel('Probability')\n",
    "plt.title('Prior - Beta Distribution')\n",
    "plt.legend(['Uniform Prior', 'Weak Prior', 'Strong Prior'])\n",
    "plt.show()"
   ]
  },
  {
   "cell_type": "markdown",
   "id": "37cdc17b-17b9-457e-8452-07f846397c2b",
   "metadata": {},
   "source": [
    "## Posterior Distribution\n",
    "Again, we are most interested in finding the posterior distribution of our parameter(s). Given our likelihood function (Binomial Distribution) and prior distribution (Beta Distribution) we are presented with a special case in which we can apply __conjugate priors__ to obtain a closed form solution for the posterior distribution. In this case the posterior distribution is of the same form as the prior.\n",
    "\n",
    "Referencing the closed form solution (https://en.wikipedia.org/wiki/Conjugate_prior):\n",
    "\n",
    "$$\n",
    "P(\\theta|X) = Beta(X|\\alpha', \\beta')\n",
    "$$\n",
    "where $\\alpha'$ and $\\beta'$ include information from the prior and experiment:\n",
    "\n",
    "$$\n",
    "\\alpha' = \\alpha + S\n",
    "$$$$\n",
    "\\beta' = \\beta + F\n",
    "$$\n",
    "\n",
    "We will use this posterior distribution form in analyzing the results of the A/B test."
   ]
  },
  {
   "cell_type": "markdown",
   "id": "1dc9aaa3-05af-40de-8f69-bdf008e4cc91",
   "metadata": {},
   "source": [
    "# Collect Data\n",
    "\n",
    "For comparison's sake, we will analyze the same data obtained in the Frequentist example. In particular, we will use the same number of observations and the same 50/50 split between A and B. We will also use an uninformative prior."
   ]
  },
  {
   "cell_type": "code",
   "execution_count": 35,
   "id": "a0889671-b2fb-4fbd-8881-741ccc958dbd",
   "metadata": {},
   "outputs": [
    {
     "name": "stdout",
     "output_type": "stream",
     "text": [
      "Number of A samples collected: 9600\n",
      "Number of B samples collected: 9600\n",
      "\n",
      "\n",
      "Data A:\n",
      "Samples Collected: 9600\n",
      "Number of Conversions: 2319\n",
      "Conversion Rate: 0.241563\n",
      "Variance: 0.183210\n",
      "\n",
      "Data B:\n",
      "Samples Collected: 9600\n",
      "Number of Conversions: 2933\n",
      "Conversion Rate: 0.305521\n",
      "Variance: 0.212178\n"
     ]
    }
   ],
   "source": [
    "# Number observations from both A and B\n",
    "n_obs = int(n_req/2) #integer value\n",
    "\n",
    "# Half observations from A\n",
    "data_A = X1[range(n_obs)]\n",
    "print(\"Number of A samples collected: %1d\" % data_A.shape)\n",
    "\n",
    "# Half observations from B\n",
    "data_B = X2[range(n_obs)]\n",
    "print(\"Number of B samples collected: %1d\" % data_B.shape)\n",
    "\n",
    "print(\"\\n\")\n",
    "print(\"Data A:\")\n",
    "print(\"Samples Collected: %1d\" %data_A.shape)\n",
    "print(\"Number of Conversions: %1d\" % data_A.sum())\n",
    "print(\"Conversion Rate: %2f\" %data_A.mean())\n",
    "print(\"Variance: %2f\" %data_A.var())\n",
    "\n",
    "print(\"\\nData B:\")\n",
    "print(\"Samples Collected: %1d\" %data_B.shape)\n",
    "print(\"Number of Conversions: %1d\" % data_B.sum())\n",
    "print(\"Conversion Rate: %2f\" %data_B.mean())\n",
    "print(\"Variance: %2f\" %data_B.var())"
   ]
  },
  {
   "cell_type": "markdown",
   "id": "03b24c1d-4ab7-4b61-8e56-e8cb49359bf6",
   "metadata": {},
   "source": [
    "## Calculate Posterior Distributions\n",
    "\n",
    "Calculate the posterior distributions of the conversion rate."
   ]
  },
  {
   "cell_type": "code",
   "execution_count": 36,
   "id": "3a5e5f96-13fc-4a5c-ad31-474529d2ca92",
   "metadata": {},
   "outputs": [],
   "source": [
    "# Define linespace\n",
    "line_parts = 1000\n",
    "x = np.linspace(0, 1, num=line_parts)"
   ]
  },
  {
   "cell_type": "code",
   "execution_count": 37,
   "id": "1de8f66c-b797-46e7-b509-82937b146b00",
   "metadata": {},
   "outputs": [],
   "source": [
    "# Data A\n",
    "\n",
    "# Define alpha', beta' - Successes, Failures, Uninformative Prior\n",
    "S = sum(data_A)\n",
    "F = data_A.shape[0] - S\n",
    "alpha_A = 1 + S\n",
    "beta_A = 1 + F\n",
    "\n",
    "# Calculate Posterior Distribution\n",
    "posterior_A = stats.beta.pdf(x, a=alpha_A, b=beta_A)/sum(stats.beta.pdf(x, a=alpha_A, b=beta_A))"
   ]
  },
  {
   "cell_type": "code",
   "execution_count": 38,
   "id": "d18da63c-1877-469e-9477-e37cb1e5f29b",
   "metadata": {},
   "outputs": [],
   "source": [
    "# Data B\n",
    "\n",
    "# Define alpha', beta' - Successes, Failures, Uninformative Prior\n",
    "S = sum(data_B)\n",
    "F = data_B.shape[0] - S\n",
    "alpha_B = 1 + S\n",
    "beta_B = 1 + F\n",
    "\n",
    "# Calculate Posterior Distribution\n",
    "posterior_B = stats.beta.pdf(x, a=alpha_B, b=beta_B)/sum(stats.beta.pdf(x, a=alpha_B, b=beta_B))"
   ]
  },
  {
   "cell_type": "markdown",
   "id": "005c7ec0-29d7-4e37-9482-8956afd23184",
   "metadata": {},
   "source": [
    "## Analyze Results"
   ]
  },
  {
   "cell_type": "code",
   "execution_count": 39,
   "id": "26b3e0cb-b14b-43db-b354-dc0abc8e63f3",
   "metadata": {},
   "outputs": [
    {
     "data": {
      "image/png": "[encoded data removed]",
      "text/plain": [
       "<Figure size 576x432 with 1 Axes>"
      ]
     },
     "metadata": {
      "needs_background": "light"
     },
     "output_type": "display_data"
    }
   ],
   "source": [
    "# Plot\n",
    "plt.figure(figsize = (8, 6))\n",
    "plt.plot(x, posterior_A)\n",
    "plt.plot(x, posterior_B)\n",
    "plt.xlim(mean_A-.05, mean_B+.05)\n",
    "plt.xlabel('Parameter Value (Conversion Rate)')\n",
    "plt.ylabel('Probability')\n",
    "plt.yticks(ticks=None, labels=None)\n",
    "plt.title('Conversion Rate Probability - Relative Difference')\n",
    "plt.legend(['A - Conversion Rate', 'B - Conversion Rate'])\n",
    "plt.show()"
   ]
  },
  {
   "cell_type": "markdown",
   "id": "ab3bfd65-d4f7-42cd-9459-ab11a77cb575",
   "metadata": {},
   "source": [
    "While the preceding plot of the posterior probabilities is fairly straightforward to interpret in this case, it is still useful to develop a more analytical framework from which to compare the two distributions.\n",
    "\n",
    "In the context of this problem, we are specifically seeking the probability that the conversion rate of B is greater than A. Given (i) that we know the posterior distributions are Beta functions and (ii) in order to find the probability that $P(\\theta_A) > P(\\theta_B)$ we must integrate over the joint distribution it can be shown that:\n",
    "\n",
    "$$\n",
    "Pr(p_B > p_A) = \\sum_{i=0}^{\\alpha_B-1} \\frac{Beta(\\alpha_A+i, \\beta_B + \\beta_A)}{(\\beta_B+i)Beta(1+i, \\beta_B)Beta(\\alpha_A, \\beta_B)}\n",
    "$$\n",
    "\n",
    "\n",
    "(Useful resource for full derivation: https://www.evanmiller.org/bayesian-ab-testing.html)\n",
    "\n",
    "In terms of implementation, the Beta function can produce large values and hence, it is typically implemented using log values."
   ]
  },
  {
   "cell_type": "code",
   "execution_count": 40,
   "id": "61836772-bee0-4e2c-b49f-076946769b87",
   "metadata": {},
   "outputs": [],
   "source": [
    "def prob_B_better (alpha_A, beta_A, alpha_B, beta_B):\n",
    "    total = 0\n",
    "    for i in range(0, alpha_B): # Note add one to alpha_B - 1 for full range\n",
    "        total += math.exp(\n",
    "            betaln(alpha_A+i, beta_B+beta_A) -\\\n",
    "            math.log(beta_B + i) -\\\n",
    "            betaln(1+i, beta_B) -\\\n",
    "            betaln(alpha_A, beta_A)\n",
    "        )\n",
    "    return total"
   ]
  },
  {
   "cell_type": "code",
   "execution_count": 41,
   "id": "27eeadae-7658-4902-ae3f-873f2225ebac",
   "metadata": {},
   "outputs": [
    {
     "name": "stdout",
     "output_type": "stream",
     "text": [
      "Probability B is better than A: 100.00\n"
     ]
    }
   ],
   "source": [
    "prob = prob_B_better (alpha_A, beta_A, alpha_B, beta_B)\n",
    "print(\"Probability B is better than A: {:.2f}\".format(prob*100))"
   ]
  },
  {
   "cell_type": "markdown",
   "id": "8c9ceb49-224a-4460-b635-f10de2eae1a0",
   "metadata": {},
   "source": [
    "## Additional Observations\n",
    "\n",
    "We will again make some observations regarding the experimental results and design.\n",
    "\n",
    "- __Lift:__ This can be calculated using Thompson sampling (not performed in this particular notebook) and results in a probability distribution that the parameter for B is greater than that of A.\n",
    "- __Sample Size__ The sample size necessary to perform an effective A/B is signficantly lower when implementing the Bayesian approach relative to the Frequentist approach. A rule of thumb is approximately half of the number of observations are needed, though this is subsequently explored in greater detail.\n",
    "- __Interpretation:__ \"There is an X% chance that B is better than A and the expected lift is Y percentage points.\" - This is easy for a non-technical audience to interpret.\n",
    "- __Optimization During Experiment:__ Optimization of our desired metric (e.g. clicks, conversion, purchases) can be done during the data collection phase of the experiment (see Multi-Armed Bandit for additional detail). This reduces opportunity cost in the real world. "
   ]
  },
  {
   "cell_type": "code",
   "execution_count": 42,
   "id": "6ff8f74c-5f11-4104-9401-4f0c3ff5445a",
   "metadata": {},
   "outputs": [
    {
     "name": "stdout",
     "output_type": "stream",
     "text": [
      "Most probable Conversion Rate (A): 0.241\n",
      "Most probable Conversion Rate (B): 0.305\n",
      "Conversion Rate Lift of B over A: 0.266\n"
     ]
    }
   ],
   "source": [
    "#Frequentist Approach\n",
    "\n",
    "# Lift = (CR_B - CR_A ) / CR_A\n",
    "cr_A = posterior_A.argmax()/line_parts\n",
    "cr_B = posterior_B.argmax()/line_parts\n",
    "lift = (cr_B - cr_A) / cr_A\n",
    "\n",
    "print(\"Most probable Conversion Rate (A): {:.3f}\".format(cr_A))\n",
    "print(\"Most probable Conversion Rate (B): {:.3f}\".format(cr_B))\n",
    "print(\"Conversion Rate Lift of B over A: {:.3f}\".format(lift))"
   ]
  },
  {
   "cell_type": "markdown",
   "id": "c55d12ac-6636-46d4-b79b-af78a19aa721",
   "metadata": {},
   "source": [
    "# Testing"
   ]
  },
  {
   "cell_type": "markdown",
   "id": "df9d0402-aead-40c3-a079-4fc560ca29c2",
   "metadata": {},
   "source": [
    "We can simulate testing of our experiment by generating data and performing the analysis multiple times. A/A testing is simulated below, with the expectation that the Frequentist Approach will result in a false positive rate 5% of the time. Similarly, we can simulate the A/B test where we would expect a false negative rate approximately 20% of the time. It should be noted that the number of required observations was calculated previuosly using a \"rule of thumb\", which makes this analysis more useful and important. An arbitary value of 95% probability was chosen as the cutoff for a correct Bayesian prediction.\n",
    "\n",
    "* Expect 5% false positive rate\n",
    "* Expect 20% false negative rate"
   ]
  },
  {
   "cell_type": "markdown",
   "id": "1407ac17-93c4-4e0a-859c-0365e0965da8",
   "metadata": {},
   "source": [
    "### Define Functions"
   ]
  },
  {
   "cell_type": "code",
   "execution_count": 43,
   "id": "446f1350-4415-476d-a86a-5164695cec3b",
   "metadata": {},
   "outputs": [],
   "source": [
    "# Generate Data\n",
    "def gen_binomial_data(mean_A, mean_B, sample_size):\n",
    "    sample = int(math.ceil(sample_size/2))  #sample size for each individual dataset\n",
    "    X1=np.random.binomial(n=1, p=mean_A, size=sample)\n",
    "    X2=np.random.binomial(n=1, p=mean_B, size=sample)\n",
    "    return X1, X2\n",
    "\n",
    "# Perform Frequentist Analysis\n",
    "def frequ_analysis(data_A, data_B):\n",
    "    p_val = stats.ttest_rel(data_A, data_B).pvalue\n",
    "    test_stat = stats.ttest_rel(data_A, data_B).statistic\n",
    "    return p_val, test_stat\n",
    "\n",
    "# Perform Bayesian Analysis\n",
    "def prob_B_better (alpha_A, beta_A, alpha_B, beta_B):\n",
    "    total = 0\n",
    "    for i in range(0, alpha_B): # Note add one to alpha_B - 1 for full range\n",
    "        total += math.exp(\n",
    "            betaln(alpha_A+i, beta_B+beta_A) -\\\n",
    "            math.log(beta_B + i) -\\\n",
    "            betaln(1+i, beta_B) -\\\n",
    "            betaln(alpha_A, beta_A)\n",
    "        )\n",
    "    return total\n",
    "\n",
    "def calc_posterior_params(data):\n",
    "    alpha = 1 + sum(data) # 1 + Successes\n",
    "    beta = 1 + data_A.shape[0] - sum(data) # 1 + Failures\n",
    "    return alpha, beta\n",
    "    \n",
    "def bayes_analysis(data_A, data_B):\n",
    "    alpha_A, beta_A = calc_posterior_params(data_A)\n",
    "    alpha_B, beta_B = calc_posterior_params(data_B)\n",
    "    prob = prob_B_better(alpha_A, beta_A, alpha_B, beta_B)\n",
    "    return prob"
   ]
  },
  {
   "cell_type": "markdown",
   "id": "a8c7fade-8a32-4d98-880a-a8f8f24254ae",
   "metadata": {},
   "source": [
    "### Perform A/A Tests"
   ]
  },
  {
   "cell_type": "code",
   "execution_count": 44,
   "id": "686e589f-b37a-40ea-8e20-fdb73e68ba7d",
   "metadata": {},
   "outputs": [
    {
     "name": "stdout",
     "output_type": "stream",
     "text": [
      "False Positives - Frequentist: 0.056\n",
      "False Positives - Bayesian: 0.053\n"
     ]
    }
   ],
   "source": [
    "sig_level = 0.05\n",
    "results = []\n",
    "n = n_req\n",
    "\n",
    "for i in range(1000):\n",
    "    # Generate Data\n",
    "    data_A, data_B = gen_binomial_data(mean_A = 0.25, mean_B = 0.25, sample_size = n)\n",
    "\n",
    "    # Frequentist Analysis\n",
    "    p_val, test_stat = frequ_analysis(data_A, data_B)\n",
    "    if p_val < sig_level:\n",
    "        freq_correct = 1\n",
    "    else:\n",
    "        freq_correct = 0\n",
    "\n",
    "    # Bayes Analysis\n",
    "    bayes_prob_B = bayes_analysis(data_A, data_B)\n",
    "    if bayes_prob_B > 0.95:\n",
    "        bayes_correct = 1\n",
    "    else:\n",
    "        bayes_correct = 0\n",
    "\n",
    "    results.append([p_val, bayes_prob_B, freq_correct, bayes_correct])\n",
    "\n",
    "df_AA = pd.DataFrame(results, columns = ['p_value', 'prob_B_better', 'freq_FP', 'bayes_FP'])\n",
    "print(\"False Positives - Frequentist: {:.3f}\".format(df_AA['freq_FP'].sum()/df_AA.shape[0]))\n",
    "print(\"False Positives - Bayesian: {:.3f}\".format(df_AA['bayes_FP'].sum()/df_AA.shape[0]))"
   ]
  },
  {
   "cell_type": "code",
   "execution_count": 72,
   "id": "104741d1-d6b8-4809-bc68-e0f5cfc362a1",
   "metadata": {},
   "outputs": [
    {
     "data": {
      "image/png": "[encoded data removed]",
      "text/plain": [
       "<Figure size 864x288 with 2 Axes>"
      ]
     },
     "metadata": {
      "needs_background": "light"
     },
     "output_type": "display_data"
    }
   ],
   "source": [
    "fig = plt.figure(figsize=(12,4))\n",
    "\n",
    "ax1 = fig.add_subplot(121)\n",
    "ax1.hist(x=df_AA['p_value'], bins=20, color='orange')\n",
    "plt.xlabel('p-value')\n",
    "plt.ylabel('Frequency')\n",
    "plt.title('Frequentist: p-value Histogram')\n",
    "\n",
    "ax2 = fig.add_subplot(122)\n",
    "ax2.hist(x=df_AA['prob_B_better'], bins=20, color='b')\n",
    "plt.xlabel('Probability B Better')\n",
    "plt.ylabel('Frequency')\n",
    "plt.title('Bayes: Probability B Better')\n",
    "\n",
    "plt.show()"
   ]
  },
  {
   "cell_type": "markdown",
   "id": "766b1e96-0f29-4db2-b6f7-382bb50f1976",
   "metadata": {},
   "source": [
    "### Perform A/B Tests"
   ]
  },
  {
   "cell_type": "code",
   "execution_count": 65,
   "id": "c82ea366-1f1c-4a00-9ffa-f52fb39aba41",
   "metadata": {},
   "outputs": [
    {
     "name": "stdout",
     "output_type": "stream",
     "text": [
      "True Positives - Frequentist: 0.660\n",
      "True Positives - Bayesian: 0.760\n"
     ]
    }
   ],
   "source": [
    "sig_level = 0.05\n",
    "results = []\n",
    "n = n_req\n",
    "\n",
    "for i in range(1000):\n",
    "    # Generate Data\n",
    "    data_A, data_B = gen_binomial_data(mean_A = 0.25, mean_B = 0.265, sample_size = n)\n",
    "\n",
    "    # Frequentist Analysis\n",
    "    p_val, test_stat = frequ_analysis(data_A, data_B)\n",
    "    if p_val < sig_level:\n",
    "        freq_correct = 1\n",
    "    else:\n",
    "        freq_correct = 0\n",
    "\n",
    "    # Bayes Analysis\n",
    "    bayes_prob_B = bayes_analysis(data_A, data_B)\n",
    "    if bayes_prob_B > 0.95:\n",
    "        bayes_correct = 1\n",
    "    else:\n",
    "        bayes_correct = 0\n",
    "\n",
    "    results.append([p_val, bayes_prob_B, freq_correct, bayes_correct])\n",
    "    \n",
    "\n",
    "df_AB = pd.DataFrame(results, columns = ['p_value', 'prob_B_better', 'freq_correct', 'bayes_correct'])\n",
    "print(\"True Positives - Frequentist: {:.3f}\".format(df_AB['freq_correct'].sum()/df_AA.shape[0]))\n",
    "print(\"True Positives - Bayesian: {:.3f}\".format(df_AB['bayes_correct'].sum()/df_AA.shape[0]))"
   ]
  },
  {
   "cell_type": "code",
   "execution_count": 66,
   "id": "09aafcfe-62ce-49d3-b88d-2aa5e256b733",
   "metadata": {},
   "outputs": [],
   "source": [
    "df_results = pd.DataFrame(results, columns = ['p_value', 'prob_B_better', 'freq_correct', 'bayes_correct'])"
   ]
  },
  {
   "cell_type": "code",
   "execution_count": 73,
   "id": "3ec31df5-3fd2-4e33-b7a9-ef37d9f3f730",
   "metadata": {},
   "outputs": [
    {
     "data": {
      "image/png": "[encoded data removed]",
      "text/plain": [
       "<Figure size 864x288 with 2 Axes>"
      ]
     },
     "metadata": {
      "needs_background": "light"
     },
     "output_type": "display_data"
    }
   ],
   "source": [
    "fig = plt.figure(figsize=(12,4))\n",
    "\n",
    "ax1 = fig.add_subplot(121)\n",
    "ax1.hist(x=df_AB['p_value'], bins=20, color='orange')\n",
    "plt.xlabel('p-value')\n",
    "plt.ylabel('Frequency')\n",
    "plt.title('Frequentist: p-value Histogram')\n",
    "\n",
    "ax2 = fig.add_subplot(122)\n",
    "ax2.hist(x=df_AB['prob_B_better'], bins=20, color='b')\n",
    "plt.xlabel('Probability B Better')\n",
    "plt.ylabel('Frequency')\n",
    "plt.title('Bayes: Probability B Better')\n",
    "\n",
    "plt.show()"
   ]
  },
  {
   "cell_type": "markdown",
   "id": "22ae5402-5932-41e0-9863-9ad42a24071c",
   "metadata": {},
   "source": [
    "# Conclusion\n",
    "\n",
    "While fewer people are often initially comfortable with Bayesian principles, a Bayesian approach to A/B testing provides a more straightforward analysis, improved performance, and a more intuitive description of the results. \n",
    "\n",
    "* __Analysis:__\n",
    "    * __Frequentist Approach__ - (i) Figure out what we want to explore, (ii) assume the opposite is true, (iii) try to disprove it by showing that the observed data is improbable if the null is assumed to be true\n",
    "    * __Bayesian Approach__ - (i) Compute the probability distributions for associated with the desired metric for A & B, (ii) calculate the probability that the metric is bigger for B than A\n",
    "\n",
    "* __Performance:__ The Bayesian approach requires fewer observations to reach the same decision boundary. Conversely, if applied to the same dataset, the Bayesian approach has fewer Type II errors (failing to reject the null).\n",
    "\n",
    "* __Description of Results:__\n",
    "    * __Frequentist Approach__ - \"If we assume the null hypothesis is true we would only observe data as extreme or more so than what we saw {p-value}% of the time, so we reject the null hypothesis and conclude the alternative\"\n",
    "    * __Bayesian Approach__ - \"There is an X% chance that B is better than A and the expected lift is Y percentage points\". Additionally, a simple histogram of the parameter probability distributions is incredibly interpreted to even laimen individuals."
   ]
  },
  {
   "cell_type": "markdown",
   "id": "ca376d33-725b-4a93-be8f-99f6a0322b6a",
   "metadata": {},
   "source": [
    "## Topics for Additional Research & Discussion\n",
    "\n",
    "* Sequential Experimental Design\n",
    "\n",
    "* Multivariate Testing\n",
    "\n",
    "* Solving Bayes using Thompson Sampling (specifically in calculating lift)\n",
    "\n",
    "* Multi-Armed Bandit"
   ]
  },
  {
   "cell_type": "markdown",
   "id": "5291486f-45cb-40cc-9e14-7cca02a665e7",
   "metadata": {},
   "source": [
    "## Really Useful Resourcces\n",
    "\n",
    "#### A/B Testing All Around Resource\n",
    "\"Trustworthy Online Controlled Experiments: A Practical Guide to A/B Testing\" Ron Kohavi, Diane Tang, Ya Xu\n",
    "\n",
    "#### A/B Testing Mathematical Framework\n",
    "\"How Not to Run an A/B Test\" Evan Miller\n",
    "https://www.evanmiller.org/how-not-to-run-an-ab-test.html\n",
    "\n",
    "A/B Testing Without Losing Your Job, Ben Tilly:\n",
    "https://elem.com/~btilly/ab-testing-multiple-looks/part1-rigorous.html\n",
    "\n",
    "#### Bayesian A/B Testing\n",
    "\n",
    "\"Bayesian A/B Testing\" Evan Miller\n",
    "https://www.evanmiller.org/bayesian-ab-testing.html\n",
    "\n",
    "\"Bayesian A/B Testing at VWO\" - Chris Stucchio\n",
    "https://www.chrisstucchio.com/pubs/slides/gilt_bayesian_ab_2015/slides.html#1\n",
    "\n",
    "\"Nora Neumann - Usable A/B testing - A Bayesian approach.\" PyData June 1, 2016 \n",
    "https://youtu.be/PSqtcNZDj4A\n",
    "\n",
    "#### Conjugate Priors\n",
    "Conjugate Priors\n",
    "https://en.wikipedia.org/wiki/Conjugate_prior\n",
    "\n",
    "#### Statistical Test Flow Charts\n",
    "\n",
    "LaNts and Laminins\n",
    "https://lantsandlaminins.com/statistics-test-flow-chart/\n"
   ]
  }
 ],
 "metadata": {
  "kernelspec": {
   "display_name": "Python 3 (ipykernel)",
   "language": "python",
   "name": "python3"
  },
  "language_info": {
   "codemirror_mode": {
    "name": "ipython",
    "version": 3
   },
   "file_extension": ".py",
   "mimetype": "text/x-python",
   "name": "python",
   "nbconvert_exporter": "python",
   "pygments_lexer": "ipython3",
   "version": "3.8.3"
  }
 },
 "nbformat": 4,
 "nbformat_minor": 5
}
