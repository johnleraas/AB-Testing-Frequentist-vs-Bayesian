{
  "nbformat": 4,
  "nbformat_minor": 0,
  "metadata": {
    "colab": {
      "name": "Bayesian_ABTesting_MCMCSampling.ipynb",
      "provenance": [],
      "collapsed_sections": [],
      "authorship_tag": "ABX9TyPDgGUUqXWu5JODncy5M9lY",
      "include_colab_link": true
    },
    "kernelspec": {
      "name": "python3",
      "display_name": "Python 3"
    },
    "language_info": {
      "name": "python"
    }
  },
  "cells": [
    {
      "cell_type": "markdown",
      "metadata": {
        "id": "view-in-github",
        "colab_type": "text"
      },
      "source": [
        "<a href=\"https://colab.research.google.com/github/johnleraas/AB-Testing-Frequentist-vs-Bayesian/blob/main/Bayesian_ABTesting_MCMCSampling.ipynb\" target=\"_parent\"><img src=\"https://colab.research.google.com/assets/colab-badge.svg\" alt=\"Open In Colab\"/></a>"
      ]
    },
    {
      "cell_type": "markdown",
      "source": [
        "__Author:__ John Leraas\n",
        "\n",
        "__Date:__ 2/16/2022\n",
        "\n",
        "__Purpose:__ This notebook was created to provide insight into and examples of Bayesian AB testing."
      ],
      "metadata": {
        "id": "4unRyW1qmINE"
      }
    },
    {
      "cell_type": "markdown",
      "source": [
        "# Bayesian A/B Testing\n",
        "\n",
        "This notebook assumes prior knowledge regarding A/B testing and experimental design. \n",
        "\n",
        "While the \"Frequentist Approach\" is most often applied to A/B Testing, the Bayesian approach provides several significant advantages:\n",
        "* Answers the Question Being Asked: \"What is the probability that the conversion rate B is better than the conversion rate of A?\"\n",
        "* Fewer Observations are typically needed in order to provide meaningful results\n",
        "* Uncertainty in parameter estimates is easily expressed with Bayesian analysis\n",
        "* The experiment can be optimized for a given metric (e.g. revenue, clicks, etc.) throughout the course of the experiment (i.e. Multi-Armed Bandit)\n",
        "\n",
        "In Bayesian A/B testing we are seeking to estimate the posterior probability distribution for our parameters (e.g. conversion rate of A, conversion rate of B, difference in conversion rate, lift).\n",
        "\n",
        "### Bayes' Theorem\n",
        "Bayes' Theorem (applied to model parameters and the corresponding data) states:\n",
        "\n",
        "$$\n",
        "P(\\theta|X) = \\frac{P(X|\\theta) P(\\theta)} {P(X)}\n",
        "$$\n",
        "\n",
        "where\n",
        "\n",
        "> $\\theta = $ the parameters for the underlying distribution\n",
        "\n",
        "> $X = $ the observed outcome (data)\n",
        "\n",
        "We generally refer to the components as:\n",
        "\n",
        "> $P(\\theta|X)$: the __Posterior Distribution__\n",
        "\n",
        "> $P(X|\\theta)$: the __Likelihood__\n",
        "\n",
        "> $P(\\theta)$: the __Prior Probability Distribution__\n",
        "\n",
        "> $P(X)$: the __Evidence__, a normalizing constant (probabilities should sum to 1)\n",
        "\n",
        "\n",
        "### Solving For and Estimating Posterior Probability Distribution\n",
        "In the case of A/B testing it turns out that we can neatly solve for the posterior probability distribution using conjugate priors (more detail below). There are many examples of situations in which solutions for the posterior are intractible or not practical to solve (in closed form or numerically). In these situations we can approximate solutions through (1) sampling or (2) variational inference. Sampling is practical in lower dimensional situations (such as this), and requires no assumptions about the model family.\n",
        "\n",
        "\n",
        "### Bayesian Approach\n",
        "* __Select a Likelihood Function:__ For binary outcomes (e.g. click or don't click), and specifically Bernoulli Random Trials, a Binomial Distribution is appropriate.\n",
        "* __Select a Prior Function:__ The specific A/B testing problem makes the Beta Distribution a particularly good choice.\n",
        "* __Apply Belief in Model Parameters Through Prior:__ If there is a strong (or weak) belief derived from pre-existing knowledge or insight, this can be incorporated in the prior. Additionally, a uniform prior can be used to convey no pre-existing insight or expectation regarding the prior.\n",
        "* __Collect All Observations:__ Run the experiment\n",
        "* __Calculate Posterior Probobalities:__ Calculate the probability distribution of the parameter, representing the conversion rate in this case, of both A and B.\n",
        "* __Compare Results:__ Calculate the probability that B is better than A. Interestingly, the conversion rate of A and B are represented by distributions so this can be solved via an integration of the probability distributions."
      ],
      "metadata": {
        "id": "6OEpfEx3mOPd"
      }
    },
    {
      "cell_type": "markdown",
      "source": [
        "# Import Libraries"
      ],
      "metadata": {
        "id": "P26__FkZmScN"
      }
    },
    {
      "cell_type": "code",
      "execution_count": null,
      "metadata": {
        "id": "GkHz2bBWD-An"
      },
      "outputs": [],
      "source": [
        "import numpy as np\n",
        "import pymc3 as pm\n",
        "import math\n",
        "from scipy.special import betaln\n",
        "from scipy import stats\n",
        "import arviz as az\n",
        "\n",
        "import seaborn as sns\n",
        "import matplotlib.pyplot as plt"
      ]
    },
    {
      "cell_type": "markdown",
      "source": [
        "# Data Setup"
      ],
      "metadata": {
        "id": "b37fV21vmV0v"
      }
    },
    {
      "cell_type": "code",
      "source": [
        "# Create Data\n",
        "mean_A = .25  #True Mean of A\n",
        "mean_B = .3  #True Mean of B\n",
        "n = 1000  #Number of Observations in Experiment\n",
        "sample = int(n/2) #Number of observations from A and B separately\n",
        "\n",
        "# Create Datasets - Binomial Distribution\n",
        "data_A=np.random.binomial(n=1, p=mean_A, size=sample)\n",
        "data_B=np.random.binomial(n=1, p=mean_B, size=sample)"
      ],
      "metadata": {
        "id": "xbIl9h6lEHz2"
      },
      "execution_count": null,
      "outputs": []
    },
    {
      "cell_type": "markdown",
      "source": [
        "# Solution 1 - Conjugate Priors\n",
        "\n",
        "## Posterior Distribution\n",
        "Again, we are most interested in finding the posterior distribution of our parameter(s). Given our likelihood function (Binomial Distribution) and prior distribution (Beta Distribution) we are presented with a special case in which we can apply __conjugate priors__ to obtain a closed form solution for the posterior distribution. In this case the posterior distribution is of the same form as the prior.\n",
        "\n",
        "Referencing the closed form solution (https://en.wikipedia.org/wiki/Conjugate_prior):\n",
        "\n",
        "$$\n",
        "P(\\theta|X) = Beta(X|\\alpha', \\beta')\n",
        "$$\n",
        "where $\\alpha'$ and $\\beta'$ include information from the prior and experiment:\n",
        "\n",
        "$$\n",
        "\\alpha' = \\alpha + S\n",
        "$$$$\n",
        "\\beta' = \\beta + F\n",
        "$$\n",
        "\n",
        "We will use this posterior distribution form in analyzing the results of the A/B test."
      ],
      "metadata": {
        "id": "OCaK5n17FjyP"
      }
    },
    {
      "cell_type": "code",
      "source": [
        "# Define linespace\n",
        "line_parts = 1000\n",
        "x = np.linspace(0, 1, num=line_parts)\n",
        "\n",
        "\n",
        "### Data A\n",
        "\n",
        "# Define alpha', beta' - Successes, Failures, Uninformative Prior\n",
        "S = sum(data_A)\n",
        "F = data_A.shape[0] - S\n",
        "alpha_A = 1 + S\n",
        "beta_A = 1 + F\n",
        "\n",
        "# Calculate Posterior Distribution\n",
        "posterior_A = stats.beta.pdf(x, a=alpha_A, b=beta_A)/sum(stats.beta.pdf(x, a=alpha_A, b=beta_A))\n",
        "\n",
        "\n",
        "### Data B\n",
        "\n",
        "# Define alpha', beta' - Successes, Failures, Uninformative Prior\n",
        "S = sum(data_B)\n",
        "F = data_B.shape[0] - S\n",
        "alpha_B = 1 + S\n",
        "beta_B = 1 + F\n",
        "\n",
        "# Calculate Posterior Distribution\n",
        "posterior_B = stats.beta.pdf(x, a=alpha_B, b=beta_B)/sum(stats.beta.pdf(x, a=alpha_B, b=beta_B))"
      ],
      "metadata": {
        "id": "zp2ZJ5EtFPbn"
      },
      "execution_count": null,
      "outputs": []
    },
    {
      "cell_type": "code",
      "source": [
        "# Plot\n",
        "plt.figure(figsize = (8, 6))\n",
        "plt.plot(x, posterior_A)\n",
        "plt.plot(x, posterior_B)\n",
        "plt.xlim(mean_A-.15, mean_B+.15)\n",
        "plt.xlabel('Parameter Value (Conversion Rate)')\n",
        "plt.ylabel('Probability')\n",
        "plt.yticks(ticks=None, labels=None)\n",
        "plt.yticks([])\n",
        "plt.title('Conversion Rate Probability - Relative Difference')\n",
        "plt.legend(['A - Conversion Rate', 'B - Conversion Rate'])\n",
        "plt.show()"
      ],
      "metadata": {
        "colab": {
          "base_uri": "https://localhost:8080/",
          "height": 404
        },
        "id": "W2cLr8tFFQd1",
        "outputId": "5b41891d-0afc-428d-bf15-d3fd81134262"
      },
      "execution_count": null,
      "outputs": [
        {
          "output_type": "display_data",
          "data": {
            "image/png": "[encoded data removed]",
            "text/plain": [
              "<Figure size 576x432 with 1 Axes>"
            ]
          },
          "metadata": {
            "needs_background": "light"
          }
        }
      ]
    },
    {
      "cell_type": "markdown",
      "source": [
        "To find the probability that the conversion rate of B is greater than that of A (by any amount) we evaluate the joint probability distribution. Note that for this metric we would integrate from mean_A = 0 to mean_A = mean_B across all mean_A (i.e. all values where mean_B > mean_A)."
      ],
      "metadata": {
        "id": "PIpYq1cT698q"
      }
    },
    {
      "cell_type": "code",
      "source": [
        "def prob_B_better (alpha_A, beta_A, alpha_B, beta_B):\n",
        "    total = 0\n",
        "    for i in range(0, alpha_B): # Note add one to alpha_B - 1 for full range\n",
        "        total += math.exp(\n",
        "            betaln(alpha_A+i, beta_B+beta_A) -\\\n",
        "            math.log(beta_B + i) -\\\n",
        "            betaln(1+i, beta_B) -\\\n",
        "            betaln(alpha_A, beta_A)\n",
        "        )\n",
        "    return total\n",
        "\n",
        "prob = prob_B_better (alpha_A, beta_A, alpha_B, beta_B)\n",
        "print(\"Probability B is better than A: {:.2f}\".format(prob*100))"
      ],
      "metadata": {
        "colab": {
          "base_uri": "https://localhost:8080/"
        },
        "id": "jEwDEbG9F51M",
        "outputId": "12b7871a-9b3c-4c47-dff4-7a5af4b78e59"
      },
      "execution_count": null,
      "outputs": [
        {
          "output_type": "stream",
          "name": "stdout",
          "text": [
            "Probability B is better than A: 98.91\n"
          ]
        }
      ]
    },
    {
      "cell_type": "markdown",
      "source": [
        "# Solution 2 - MCMC NUTS Sampling"
      ],
      "metadata": {
        "id": "1Qw6bIfMGHgi"
      }
    },
    {
      "cell_type": "markdown",
      "source": [
        "In Bayesian A/B Testing we are simply attempting to calculate or approximate the probability of the model parameter (probability of conversion) given the data, the posterior distribution.\n",
        "\n",
        "$$\n",
        "P(\\theta|X) = \\frac{P(X|\\theta) P(\\theta)} {P(X)}\n",
        "$$\n",
        "\n",
        "However, the posterior distribution (or the expected value) is often intractable to compute. This can be due to the complexity of the posterior distribution, high dimensionality of the parameter space, or require integrations without closed form solutions.\n",
        "\n",
        "Sampling methods can provide good parameter estimates and are appropriate for lower dimension problems. In this case we will apply MCMC NUTS as a sampling method (Markov Chain Monte Carlo No U-Turn Sampling).\n",
        "\n",
        "While I will not detail the sampling method, however, at a high level:\n",
        "* Rejection Sampling - If you were to draw the posterior distribution for the conversion rate of A on a piece of paper, tape it to the wall, throw 10,000 darts at the paper, cut out the actual distribution (throw away all observations above the line - not that in practice these are thrown out at each step), and then bin and count the number of dart hits for each bin this should provide a good representation of the distribution. For example, the most probable point is the highest (physically), so we would expect the most darts to hit in this area. This is an example of a grid search approach to rejection sampling. While straightforward, this is an ineffecient method which is of particular concern (i) in high dimensionality situations, where you would be sampling significant amounts of empty space, and (ii) when the posterior is numerically challenging to calculate (for the rejection decision).\n",
        "* MCMC NUTS Sampling - This is one alternative to performing a grid search and can be thought of as a smart way to explore the boundary of a mountain in X,Y,Z space, where Z is the rejection boundary. MCMC NUTS sampling results in more time spent near the top of the mountain (higher probability region). Additionaly resources provide more detailed descriptions:\n",
        "\n",
        "> https://www.youtube.com/watch?v=XV4yj4T4PBQ\n",
        "\n",
        "> https://www.youtube.com/watch?v=yApmR-c_hKU\n",
        "\n",
        "The basic steps are:\n",
        "\n",
        "1. Pick values for the parameters from the prior distributions\n",
        "\n",
        "2. Compute the likelihood for these parameters\n",
        "\n",
        "3. Use this likehood in Bayes' Theorem to compute posteriors for the parameters and compute the next point using MCMC sampling."
      ],
      "metadata": {
        "id": "TTT1sI6veHLU"
      }
    },
    {
      "cell_type": "markdown",
      "source": [
        "## Sampling - Estimating Metrics\n",
        "\n",
        "In addition to simply estimating the conversion rate of A and the conversion rate of B through sampling, we can also define custom metrics. We will specifically sample:\n",
        "\n",
        "\n",
        "*   **Conversion Rate of A**\n",
        "*   **Conversion Rate of B**\n",
        "*   **Difference**: Conv Rate B - Conv Rate A\n",
        "*   **Lift**: (Conv Rate B - Conv Rate A) / Conv Rate A\n",
        "\n"
      ],
      "metadata": {
        "id": "0aOQyjh6iH8V"
      }
    },
    {
      "cell_type": "code",
      "source": [
        "with pm.Model():\n",
        "  #Prior\n",
        "  samp_A = pm.Beta('A_mean', alpha=1, beta=1)\n",
        "  samp_B = pm.Beta('B_mean', alpha=1, beta=1)\n",
        "\n",
        "  #Likelihood\n",
        "  A_obs = pm.Bernoulli('A_obs', samp_A, observed=data_A)\n",
        "  B_obs = pm.Bernoulli('B_obs', samp_B, observed=data_B)\n",
        "\n",
        "  #Include Other Metrics\n",
        "  pm.Deterministic('Difference', samp_B - samp_A)\n",
        "  pm.Deterministic('Lift', (samp_B - samp_A)/samp_B)\n",
        "\n",
        "  #Sample\n",
        "  trace = pm.sample(return_inferencedata=True, progressbar=True, draws=5000)"
      ],
      "metadata": {
        "colab": {
          "base_uri": "https://localhost:8080/",
          "height": 148
        },
        "id": "SqZX9WdJ08_K",
        "outputId": "9444b876-d8b8-4f84-caca-29c9fb300397"
      },
      "execution_count": null,
      "outputs": [
        {
          "output_type": "stream",
          "name": "stderr",
          "text": [
            "Auto-assigning NUTS sampler...\n",
            "Initializing NUTS using jitter+adapt_diag...\n",
            "Sequential sampling (2 chains in 1 job)\n",
            "NUTS: [B_mean, A_mean]\n"
          ]
        },
        {
          "output_type": "display_data",
          "data": {
            "text/html": [
              "\n",
              "    <div>\n",
              "        <style>\n",
              "            /* Turns off some styling */\n",
              "            progress {\n",
              "                /* gets rid of default border in Firefox and Opera. */\n",
              "                border: none;\n",
              "                /* Needs to be in here for Safari polyfill so background images work as expected. */\n",
              "                background-size: auto;\n",
              "            }\n",
              "            .progress-bar-interrupted, .progress-bar-interrupted::-webkit-progress-bar {\n",
              "                background: #F44336;\n",
              "            }\n",
              "        </style>\n",
              "      <progress value='6000' class='' max='6000' style='width:300px; height:20px; vertical-align: middle;'></progress>\n",
              "      100.00% [6000/6000 00:06<00:00 Sampling chain 0, 0 divergences]\n",
              "    </div>\n",
              "    "
            ],
            "text/plain": [
              "<IPython.core.display.HTML object>"
            ]
          },
          "metadata": {}
        },
        {
          "output_type": "display_data",
          "data": {
            "text/html": [
              "\n",
              "    <div>\n",
              "        <style>\n",
              "            /* Turns off some styling */\n",
              "            progress {\n",
              "                /* gets rid of default border in Firefox and Opera. */\n",
              "                border: none;\n",
              "                /* Needs to be in here for Safari polyfill so background images work as expected. */\n",
              "                background-size: auto;\n",
              "            }\n",
              "            .progress-bar-interrupted, .progress-bar-interrupted::-webkit-progress-bar {\n",
              "                background: #F44336;\n",
              "            }\n",
              "        </style>\n",
              "      <progress value='6000' class='' max='6000' style='width:300px; height:20px; vertical-align: middle;'></progress>\n",
              "      100.00% [6000/6000 00:04<00:00 Sampling chain 1, 0 divergences]\n",
              "    </div>\n",
              "    "
            ],
            "text/plain": [
              "<IPython.core.display.HTML object>"
            ]
          },
          "metadata": {}
        },
        {
          "output_type": "stream",
          "name": "stderr",
          "text": [
            "Sampling 2 chains for 1_000 tune and 5_000 draw iterations (2_000 + 10_000 draws total) took 11 seconds.\n"
          ]
        }
      ]
    },
    {
      "cell_type": "markdown",
      "source": [
        "## Display Technical Results\n",
        "We can use the ArviZ library to quickly summarize the results for a technical audience:"
      ],
      "metadata": {
        "id": "S9sIZK4qiwlv"
      }
    },
    {
      "cell_type": "code",
      "source": [
        "# Plot Posterior Distributions\n",
        "az.plot_posterior(trace)"
      ],
      "metadata": {
        "colab": {
          "base_uri": "https://localhost:8080/",
          "height": 410
        },
        "id": "m_9OekvH2CVX",
        "outputId": "b4231bd6-d9e6-4112-f8ab-f7522cc23cc2"
      },
      "execution_count": null,
      "outputs": [
        {
          "output_type": "execute_result",
          "data": {
            "text/plain": [
              "array([<matplotlib.axes._subplots.AxesSubplot object at 0x7f230585a790>,\n",
              "       <matplotlib.axes._subplots.AxesSubplot object at 0x7f2304bdd0d0>,\n",
              "       <matplotlib.axes._subplots.AxesSubplot object at 0x7f2304c10690>,\n",
              "       <matplotlib.axes._subplots.AxesSubplot object at 0x7f2304c3bc50>],\n",
              "      dtype=object)"
            ]
          },
          "metadata": {},
          "execution_count": 10
        },
        {
          "output_type": "display_data",
          "data": {
            "image/png": "[encoded data removed]",
            "text/plain": [
              "<Figure size 1987.2x331.2 with 4 Axes>"
            ]
          },
          "metadata": {
            "needs_background": "light"
          }
        }
      ]
    },
    {
      "cell_type": "code",
      "source": [
        "# Summary\n",
        "pm.summary(trace)"
      ],
      "metadata": {
        "colab": {
          "base_uri": "https://localhost:8080/",
          "height": 175
        },
        "id": "AEgfJBp53fBz",
        "outputId": "4ee7d893-bd32-4d7e-8b7f-dfebe22595ab"
      },
      "execution_count": null,
      "outputs": [
        {
          "output_type": "execute_result",
          "data": {
            "text/html": [
              "\n",
              "  <div id=\"df-c1e4d60d-1ad7-49af-9c8d-f735234c0817\">\n",
              "    <div class=\"colab-df-container\">\n",
              "      <div>\n",
              "<style scoped>\n",
              "    .dataframe tbody tr th:only-of-type {\n",
              "        vertical-align: middle;\n",
              "    }\n",
              "\n",
              "    .dataframe tbody tr th {\n",
              "        vertical-align: top;\n",
              "    }\n",
              "\n",
              "    .dataframe thead th {\n",
              "        text-align: right;\n",
              "    }\n",
              "</style>\n",
              "<table border=\"1\" class=\"dataframe\">\n",
              "  <thead>\n",
              "    <tr style=\"text-align: right;\">\n",
              "      <th></th>\n",
              "      <th>mean</th>\n",
              "      <th>sd</th>\n",
              "      <th>hdi_3%</th>\n",
              "      <th>hdi_97%</th>\n",
              "      <th>mcse_mean</th>\n",
              "      <th>mcse_sd</th>\n",
              "      <th>ess_bulk</th>\n",
              "      <th>ess_tail</th>\n",
              "      <th>r_hat</th>\n",
              "    </tr>\n",
              "  </thead>\n",
              "  <tbody>\n",
              "    <tr>\n",
              "      <th>A_mean</th>\n",
              "      <td>0.233</td>\n",
              "      <td>0.019</td>\n",
              "      <td>0.198</td>\n",
              "      <td>0.269</td>\n",
              "      <td>0.000</td>\n",
              "      <td>0.000</td>\n",
              "      <td>9196.0</td>\n",
              "      <td>6754.0</td>\n",
              "      <td>1.0</td>\n",
              "    </tr>\n",
              "    <tr>\n",
              "      <th>B_mean</th>\n",
              "      <td>0.296</td>\n",
              "      <td>0.020</td>\n",
              "      <td>0.260</td>\n",
              "      <td>0.335</td>\n",
              "      <td>0.000</td>\n",
              "      <td>0.000</td>\n",
              "      <td>9237.0</td>\n",
              "      <td>7164.0</td>\n",
              "      <td>1.0</td>\n",
              "    </tr>\n",
              "    <tr>\n",
              "      <th>Difference</th>\n",
              "      <td>0.063</td>\n",
              "      <td>0.027</td>\n",
              "      <td>0.011</td>\n",
              "      <td>0.114</td>\n",
              "      <td>0.000</td>\n",
              "      <td>0.000</td>\n",
              "      <td>8935.0</td>\n",
              "      <td>6376.0</td>\n",
              "      <td>1.0</td>\n",
              "    </tr>\n",
              "    <tr>\n",
              "      <th>Lift</th>\n",
              "      <td>0.210</td>\n",
              "      <td>0.084</td>\n",
              "      <td>0.052</td>\n",
              "      <td>0.363</td>\n",
              "      <td>0.001</td>\n",
              "      <td>0.001</td>\n",
              "      <td>8732.0</td>\n",
              "      <td>6787.0</td>\n",
              "      <td>1.0</td>\n",
              "    </tr>\n",
              "  </tbody>\n",
              "</table>\n",
              "</div>\n",
              "      <button class=\"colab-df-convert\" onclick=\"convertToInteractive('df-c1e4d60d-1ad7-49af-9c8d-f735234c0817')\"\n",
              "              title=\"Convert this dataframe to an interactive table.\"\n",
              "              style=\"display:none;\">\n",
              "        \n",
              "  <svg xmlns=\"http://www.w3.org/2000/svg\" height=\"24px\"viewBox=\"0 0 24 24\"\n",
              "       width=\"24px\">\n",
              "    <path d=\"M0 0h24v24H0V0z\" fill=\"none\"/>\n",
              "    <path d=\"M18.56 5.44l.94 2.06.94-2.06 2.06-.94-2.06-.94-.94-2.06-.94 2.06-2.06.94zm-11 1L8.5 8.5l.94-2.06 2.06-.94-2.06-.94L8.5 2.5l-.94 2.06-2.06.94zm10 10l.94 2.06.94-2.06 2.06-.94-2.06-.94-.94-2.06-.94 2.06-2.06.94z\"/><path d=\"M17.41 7.96l-1.37-1.37c-.4-.4-.92-.59-1.43-.59-.52 0-1.04.2-1.43.59L10.3 9.45l-7.72 7.72c-.78.78-.78 2.05 0 2.83L4 21.41c.39.39.9.59 1.41.59.51 0 1.02-.2 1.41-.59l7.78-7.78 2.81-2.81c.8-.78.8-2.07 0-2.86zM5.41 20L4 18.59l7.72-7.72 1.47 1.35L5.41 20z\"/>\n",
              "  </svg>\n",
              "      </button>\n",
              "      \n",
              "  <style>\n",
              "    .colab-df-container {\n",
              "      display:flex;\n",
              "      flex-wrap:wrap;\n",
              "      gap: 12px;\n",
              "    }\n",
              "\n",
              "    .colab-df-convert {\n",
              "      background-color: #E8F0FE;\n",
              "      border: none;\n",
              "      border-radius: 50%;\n",
              "      cursor: pointer;\n",
              "      display: none;\n",
              "      fill: #1967D2;\n",
              "      height: 32px;\n",
              "      padding: 0 0 0 0;\n",
              "      width: 32px;\n",
              "    }\n",
              "\n",
              "    .colab-df-convert:hover {\n",
              "      background-color: #E2EBFA;\n",
              "      box-shadow: 0px 1px 2px rgba(60, 64, 67, 0.3), 0px 1px 3px 1px rgba(60, 64, 67, 0.15);\n",
              "      fill: #174EA6;\n",
              "    }\n",
              "\n",
              "    [theme=dark] .colab-df-convert {\n",
              "      background-color: #3B4455;\n",
              "      fill: #D2E3FC;\n",
              "    }\n",
              "\n",
              "    [theme=dark] .colab-df-convert:hover {\n",
              "      background-color: #434B5C;\n",
              "      box-shadow: 0px 1px 3px 1px rgba(0, 0, 0, 0.15);\n",
              "      filter: drop-shadow(0px 1px 2px rgba(0, 0, 0, 0.3));\n",
              "      fill: #FFFFFF;\n",
              "    }\n",
              "  </style>\n",
              "\n",
              "      <script>\n",
              "        const buttonEl =\n",
              "          document.querySelector('#df-c1e4d60d-1ad7-49af-9c8d-f735234c0817 button.colab-df-convert');\n",
              "        buttonEl.style.display =\n",
              "          google.colab.kernel.accessAllowed ? 'block' : 'none';\n",
              "\n",
              "        async function convertToInteractive(key) {\n",
              "          const element = document.querySelector('#df-c1e4d60d-1ad7-49af-9c8d-f735234c0817');\n",
              "          const dataTable =\n",
              "            await google.colab.kernel.invokeFunction('convertToInteractive',\n",
              "                                                     [key], {});\n",
              "          if (!dataTable) return;\n",
              "\n",
              "          const docLinkHtml = 'Like what you see? Visit the ' +\n",
              "            '<a target=\"_blank\" href=https://colab.research.google.com/notebooks/data_table.ipynb>data table notebook</a>'\n",
              "            + ' to learn more about interactive tables.';\n",
              "          element.innerHTML = '';\n",
              "          dataTable['output_type'] = 'display_data';\n",
              "          await google.colab.output.renderOutput(dataTable, element);\n",
              "          const docLink = document.createElement('div');\n",
              "          docLink.innerHTML = docLinkHtml;\n",
              "          element.appendChild(docLink);\n",
              "        }\n",
              "      </script>\n",
              "    </div>\n",
              "  </div>\n",
              "  "
            ],
            "text/plain": [
              "             mean     sd  hdi_3%  hdi_97%  ...  mcse_sd  ess_bulk  ess_tail  r_hat\n",
              "A_mean      0.233  0.019   0.198    0.269  ...    0.000    9196.0    6754.0    1.0\n",
              "B_mean      0.296  0.020   0.260    0.335  ...    0.000    9237.0    7164.0    1.0\n",
              "Difference  0.063  0.027   0.011    0.114  ...    0.000    8935.0    6376.0    1.0\n",
              "Lift        0.210  0.084   0.052    0.363  ...    0.001    8732.0    6787.0    1.0\n",
              "\n",
              "[4 rows x 9 columns]"
            ]
          },
          "metadata": {},
          "execution_count": 11
        }
      ]
    },
    {
      "cell_type": "code",
      "source": [
        "# High Density Intervals\n",
        "az.plot_forest(trace)"
      ],
      "metadata": {
        "colab": {
          "base_uri": "https://localhost:8080/",
          "height": 531
        },
        "id": "hpROkZT243os",
        "outputId": "59db52c4-d54f-48e7-f35f-814991049b50"
      },
      "execution_count": null,
      "outputs": [
        {
          "output_type": "execute_result",
          "data": {
            "text/plain": [
              "array([<matplotlib.axes._subplots.AxesSubplot object at 0x7f230c29b750>],\n",
              "      dtype=object)"
            ]
          },
          "metadata": {},
          "execution_count": 12
        },
        {
          "output_type": "display_data",
          "data": {
            "image/png": "[encoded data removed]",
            "text/plain": [
              "<Figure size 432x561.6 with 1 Axes>"
            ]
          },
          "metadata": {
            "needs_background": "light"
          }
        }
      ]
    },
    {
      "cell_type": "markdown",
      "source": [
        "## Display Currated Results\n",
        "We can also tailor the results to a less technical audience and to more specifically answer the 'business questions' being asked."
      ],
      "metadata": {
        "id": "-YxDbR9djRLe"
      }
    },
    {
      "cell_type": "code",
      "source": [
        "A_mean_samples = trace.posterior['A_mean'].values[0]\n",
        "B_mean_samples = trace.posterior['B_mean'].values[0]\n",
        "diff_samples = trace.posterior['Difference'].values[0]\n",
        "lift_samples = trace.posterior['Lift'].values[0]"
      ],
      "metadata": {
        "id": "MMLaNSa45F1s"
      },
      "execution_count": null,
      "outputs": []
    },
    {
      "cell_type": "code",
      "source": [
        "fig = plt.figure(figsize=(14,10))\n",
        "\n",
        "ax1 = fig.add_subplot(221)\n",
        "ax1.hist(A_mean_samples, bins=100, density=False, color='b')\n",
        "ax1.hist(B_mean_samples, bins=100, density=False, color='orange')\n",
        "plt.xlim(0, 0.5)\n",
        "plt.xlabel('Conversion Rate')\n",
        "plt.ylabel('Probability')\n",
        "plt.title('Conversion Rate - Mean Probability Distributions')\n",
        "plt.legend(['A - Conversion Rate', 'B - Conversion Rate'])\n",
        "plt.yticks([])\n",
        "\n",
        "ax4 = fig.add_subplot(223)\n",
        "#ax2.hist(A_mean_samples, bins=50, density=False, color='b', alpha=0)\n",
        "#ax2.hist(B_mean_samples, bins=50, density=False, color='orange', alpha=0)\n",
        "ax4.hist(diff_samples, bins=100, density=False, color='r', alpha=1)\n",
        "plt.xlim(-.5, 0.5)\n",
        "plt.xlabel('Difference Avg Conv Rate')\n",
        "plt.ylabel('Probability')\n",
        "plt.title('Difference (B minus A) Distribution')\n",
        "plt.legend(['(Conv_B - Conv_A'])\n",
        "plt.yticks([])\n",
        "\n",
        "ax3 = fig.add_subplot(224)\n",
        "#ax2.hist(A_mean_samples, bins=50, density=False, color='b', alpha=0)\n",
        "#ax2.hist(B_mean_samples, bins=50, density=False, color='orange', alpha=0)\n",
        "ax3.hist(lift_samples, bins=100, density=False, color='g', alpha=1)\n",
        "plt.xlim(-0.5, 0.5)\n",
        "plt.xlabel('Lift (%)')\n",
        "plt.ylabel('Probability')\n",
        "plt.title('Lift of B over A')\n",
        "plt.legend(['Lift of B'])\n",
        "plt.yticks([])\n",
        "\n",
        "plt.subplots_adjust(wspace = 0.3, hspace=0.3)\n",
        "\n",
        "plt.show()"
      ],
      "metadata": {
        "colab": {
          "base_uri": "https://localhost:8080/",
          "height": 622
        },
        "id": "iF_HhW-x8Qn_",
        "outputId": "c3000912-f9ca-42d7-a1bf-cd995d20537e"
      },
      "execution_count": null,
      "outputs": [
        {
          "output_type": "display_data",
          "data": {
            "image/png": "[encoded data removed]",
            "text/plain": [
              "<Figure size 1008x720 with 3 Axes>"
            ]
          },
          "metadata": {
            "needs_background": "light"
          }
        }
      ]
    },
    {
      "cell_type": "code",
      "source": [
        "# There is an X% chance Conv Rate B > Conv Rate A\n",
        "(diff_samples>0).sum()/len(diff_samples)"
      ],
      "metadata": {
        "colab": {
          "base_uri": "https://localhost:8080/"
        },
        "id": "2us3ekna5E-Z",
        "outputId": "585ada63-cd45-4aca-a02b-028c7db635e2"
      },
      "execution_count": null,
      "outputs": [
        {
          "output_type": "execute_result",
          "data": {
            "text/plain": [
              "0.9832"
            ]
          },
          "metadata": {},
          "execution_count": 32
        }
      ]
    },
    {
      "cell_type": "code",
      "source": [
        "# Lift 10% or more\n",
        "(lift_samples>.1).sum()/len(lift_samples)"
      ],
      "metadata": {
        "colab": {
          "base_uri": "https://localhost:8080/"
        },
        "id": "P8kMO0R-5E2S",
        "outputId": "47977c03-a95a-48a1-9369-86bcd006b4a0"
      },
      "execution_count": null,
      "outputs": [
        {
          "output_type": "execute_result",
          "data": {
            "text/plain": [
              "0.8654"
            ]
          },
          "metadata": {},
          "execution_count": 33
        }
      ]
    },
    {
      "cell_type": "markdown",
      "source": [
        "## Summary Results"
      ],
      "metadata": {
        "id": "PMOlgX5XjYbd"
      }
    },
    {
      "cell_type": "markdown",
      "source": [
        "### Experimental Results"
      ],
      "metadata": {
        "id": "AYN1bwb3AxiG"
      }
    },
    {
      "cell_type": "code",
      "source": [
        "print('Probability Conv Rate B is > Conv Rate A%: {:.2%}'.format((diff_samples>0).sum()/len(diff_samples)))\n",
        "print('')\n",
        "print('Probability that Lift is at least 10%: {:.2%}'.format((lift_samples>.1).sum()/len(lift_samples)))\n",
        "print('Probability that Lift is at least 15%: {:.2%}'.format((lift_samples>.15).sum()/len(lift_samples)))\n",
        "print('Probability that Lift is at least 20%: {:.2%}'.format((lift_samples>.20).sum()/len(lift_samples)))\n",
        "\n"
      ],
      "metadata": {
        "id": "t9bh9Cgx5EZw",
        "colab": {
          "base_uri": "https://localhost:8080/"
        },
        "outputId": "da164798-e0eb-4e3a-dd2d-8856ccafa95a"
      },
      "execution_count": null,
      "outputs": [
        {
          "output_type": "stream",
          "name": "stdout",
          "text": [
            "Experimental Results\n",
            "\n",
            "Probability Conv Rate B is > Conv Rate A%: 98.98%\n",
            "\n",
            "Probability that Lift is at least 10%: 89.74%\n",
            "Probability that Lift is at least 15%: 76.50%\n",
            "Probability that Lift is at least 20%: 57.02%\n",
            "\n"
          ]
        }
      ]
    },
    {
      "cell_type": "markdown",
      "source": [
        "# Actual Values"
      ],
      "metadata": {
        "id": "6wvjH3kkA1SO"
      }
    },
    {
      "cell_type": "code",
      "source": [
        "print('Conversion Rate of A: {:.2%}'.format(mean_A))\n",
        "print('Conversion Rate of B: {:.2%}'.format(mean_B))\n",
        "print(\"\")\n",
        "print('Actual Lift of B over A: {:.2%}'.format((mean_B - mean_A) / mean_A))\n"
      ],
      "metadata": {
        "id": "sKOYCHdY5Et5",
        "colab": {
          "base_uri": "https://localhost:8080/"
        },
        "outputId": "50fda255-6288-4832-838c-3d506ce20cf3"
      },
      "execution_count": null,
      "outputs": [
        {
          "output_type": "stream",
          "name": "stdout",
          "text": [
            "Conversion Rate of A: 25.00%\n",
            "Conversion Rate of B: 30.00%\n",
            "\n",
            "Actual Lift of B over A: 20.00%\n"
          ]
        }
      ]
    }
  ]
}